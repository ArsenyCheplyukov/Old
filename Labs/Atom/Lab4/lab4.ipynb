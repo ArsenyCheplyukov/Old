{
 "cells": [
  {
   "cell_type": "code",
   "execution_count": 1,
   "metadata": {},
   "outputs": [],
   "source": [
    "import numpy as np\n",
    "import matplotlib.pyplot as plt\n",
    "from sklearn.metrics import mean_squared_error"
   ]
  },
  {
   "cell_type": "code",
   "execution_count": 2,
   "metadata": {},
   "outputs": [
    {
     "data": {
      "text/plain": [
       "<Figure size 3200x2400 with 0 Axes>"
      ]
     },
     "execution_count": 2,
     "metadata": {},
     "output_type": "execute_result"
    },
    {
     "data": {
      "text/plain": [
       "<Figure size 3200x2400 with 0 Axes>"
      ]
     },
     "metadata": {},
     "output_type": "display_data"
    }
   ],
   "source": [
    "from matplotlib.pyplot import figure\n",
    "figure(figsize=(40, 30), dpi=80)"
   ]
  },
  {
   "cell_type": "code",
   "execution_count": 5,
   "metadata": {},
   "outputs": [
    {
     "data": {
      "text/plain": [
       "(array([0. , 0.2, 0.4, 0.6, 0.8, 1. , 1.2, 1.4, 1.6, 1.8, 2. , 2.2, 2.4,\n",
       "        2.6, 2.8, 3. , 3.2, 3.4, 3.6, 3.8, 4. , 4.2, 4.4, 4.6, 4.8, 5. ,\n",
       "        5.2, 5.4, 5.6, 5.8, 6. , 6.2, 6.4, 6.6, 6.8, 7. , 7.2]),\n",
       " array([ 0,  2,  6, 22, 38, 48, 56, 60, 58, 56, 54, 51, 48, 45, 42, 40, 38,\n",
       "        38, 36, 35, 34, 34, 34, 32, 32, 33, 34, 34, 34, 34, 36, 38, 40, 40,\n",
       "        42, 44, 46]))"
      ]
     },
     "execution_count": 5,
     "metadata": {},
     "output_type": "execute_result"
    }
   ],
   "source": [
    "y = (np.array([0, 2, 6, 22, 38, 48, 56, 60, 58, 56, 54, 51, 48, 45, 42, 40, 38, 38, 36, 35, 34, 34, 34, 32, 32, 33, 34, 34, 34, 34, 36, 38, 40, 40, 42, 44, 46]))\n",
    "x = (np.array([0, 0.2, 0.4, 0.6, 0.8, 1.0, 1.2, 1.4, 1.6, 1.8, 2.0, 2.2, 2.4, 2.6, 2.8, 3.0, 3.2, 3.4, 3.6, 3.8, 4.0, 4.2, 4.4, 4.6, 4.8, 5.0, 5.2,5.4, 5.6, 5.8, 6.0, 6.2, 6.4, 6.6, 6.8, 7.0, 7.2]))\n",
    "x, y"
   ]
  },
  {
   "cell_type": "code",
   "execution_count": 14,
   "metadata": {},
   "outputs": [
    {
     "data": {
      "image/png": "[encoded data removed]",
      "text/plain": [
       "<Figure size 432x288 with 1 Axes>"
      ]
     },
     "metadata": {
      "needs_background": "light"
     },
     "output_type": "display_data"
    }
   ],
   "source": [
    "from matplotlib.pyplot import tight_layout\n",
    "\n",
    "\n",
    "plt.grid(color='black', linestyle='--', linewidth=0.1, which='both')\n",
    "plt.ylabel(\"I, мА\", fontsize=12, style='italic')\n",
    "#plt.ylabel(r\"$\\dfrac{1}{a_2}$, $м^{-1}$\", fontsize=9, style='italic') #\\dfrac{1}{a₁}$, $см^{-1}\n",
    "plt.xlabel(\"U, В\", fontsize=12, style='italic')\n",
    "\n",
    "plt.scatter(x, y, c=\"black\")\n",
    "\n",
    "#plt.axhline(y=1.4445, color='black', linestyle='--')\n",
    "#plt.axvline(x=79, color='black', linestyle='--')\n",
    "#print((f(10)-f(0))/10, f(0))\n",
    "plt.title(\"ВАХ тираторна\", fontsize=14, fontweight='bold', style='italic')\n",
    "tight_layout()\n",
    "plt.savefig('scatter.jpg', format='jpg', dpi=300)\n",
    "plt.show()"
   ]
  }
 ],
 "metadata": {
  "kernelspec": {
   "display_name": "Python 3.8.3 ('base')",
   "language": "python",
   "name": "python3"
  },
  "language_info": {
   "codemirror_mode": {
    "name": "ipython",
    "version": 3
   },
   "file_extension": ".py",
   "mimetype": "text/x-python",
   "name": "python",
   "nbconvert_exporter": "python",
   "pygments_lexer": "ipython3",
   "version": "3.8.3"
  },
  "orig_nbformat": 4,
  "vscode": {
   "interpreter": {
    "hash": "adcb091e403233ca5bf1f40f3f006960bcf3a63e7272fd5deb26046d6f183ccb"
   }
  }
 },
 "nbformat": 4,
 "nbformat_minor": 2
}
